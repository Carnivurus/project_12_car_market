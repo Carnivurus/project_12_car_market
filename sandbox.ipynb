{
 "cells": [
  {
   "cell_type": "code",
   "execution_count": 23,
   "metadata": {},
   "outputs": [],
   "source": [
    "from sklearn.linear_model import LinearRegression\n",
    "from sklearn.model_selection import train_test_split\n",
    "from sklearn.ensemble import RandomForestClassifier\n",
    "from sklearn.preprocessing import OneHotEncoder\n",
    "from sklearn.metrics import accuracy_score\n",
    "from sklearn.model_selection import GridSearchCV\n",
    "from imblearn.pipeline import Pipeline\n",
    "from imblearn.over_sampling import SMOTE\n",
    "\n",
    "\n",
    "import seaborn as sns\n",
    "import matplotlib.pyplot as plt\n",
    "import plotly.express as px\n",
    "\n",
    "import pandas as pd\n",
    "import numpy as np\n",
    "import re"
   ]
  },
  {
   "cell_type": "code",
   "execution_count": 24,
   "metadata": {},
   "outputs": [],
   "source": [
    "import pandas as pd"
   ]
  },
  {
   "cell_type": "code",
   "execution_count": 25,
   "metadata": {},
   "outputs": [],
   "source": [
    "recalibrate_df = pd.read_csv('recalibrate')\n"
   ]
  },
  {
   "cell_type": "code",
   "execution_count": 26,
   "metadata": {},
   "outputs": [],
   "source": [
    "def OHE(df):\n",
    "    encoder = OneHotEncoder()\n",
    "    encoded_data = encoder.fit_transform(df)\n",
    "    output_names = encoder.get_feature_names_out(df.columns)\n",
    "    df_codified = pd.DataFrame(encoded_data.toarray(), columns=output_names, index= df.index)\n",
    "    return df_codified, encoder"
   ]
  },
  {
   "cell_type": "code",
   "execution_count": 27,
   "metadata": {},
   "outputs": [],
   "source": [
    "def inverse_OHE(encoded_df, encoder):\n",
    "     # Realizar la inversión de la codificación one-hot\n",
    "    inverse_data = encoder.inverse_transform(encoded_df)\n",
    "    return inverse_data\n",
    "\n",
    "     "
   ]
  },
  {
   "cell_type": "code",
   "execution_count": 28,
   "metadata": {},
   "outputs": [],
   "source": [
    "def r_forests(X_train,X_test,y_train):\n",
    "    \n",
    "    # Definir el pipeline\n",
    "    pipeline = Pipeline([\n",
    "    ('smote', SMOTE()), # Aplicar SMOTE\n",
    "    ('classifier', RandomForestClassifier()) # Modelo de clasificación\n",
    "    ])\n",
    "    \n",
    "    param_grid = {\n",
    "        'smote__sampling_strategy': ['auto'],  # Estrategia de sobremuestreo para SMOTE\n",
    "        'classifier__n_estimators': [50, 100, 200],  # Número de árboles en el bosque\n",
    "        'classifier__max_depth': [None, 10, 20]  # Profundidad máxima de los árboles\n",
    "    }\n",
    "    \n",
    "    grid_search = GridSearchCV(pipeline, param_grid, cv=3, scoring='accuracy')\n",
    "    grid_search.fit(X_train, y_train)\n",
    "\n",
    "    best_model = grid_search.best_estimator_\n",
    "    best_model.fit(X_train, y_train)\n",
    "    best_score= grid_search.best_score_\n",
    "    print(best_score)\n",
    "\n",
    "    y_predict = best_model.predict(X_test)\n",
    "\n",
    "    # model.fit(X_train,y_train)\n",
    "    # y_predict = model.predict(X_test)\n",
    "    return y_predict"
   ]
  },
  {
   "cell_type": "code",
   "execution_count": 29,
   "metadata": {},
   "outputs": [],
   "source": [
    "\n",
    "def model_imputate(df, column):\n",
    "    # df = original_df.copy()\n",
    "    # df = df.drop(columns=cols)\n",
    "\n",
    "    #después agregar o modificar el vehicule type por el elemento a analizar. IMPORTANTING\n",
    "\n",
    "    # Creamos dos dataframes, el primero con los valores nulos (los que queremos predecir) y el segundo con los elementos que no son nulos (que nos servirán para entrenar al modelo)\n",
    "    predict_df = df[df[column].isnull()]\n",
    "    train_df = df[~df[column].isnull()]\n",
    "\n",
    "    # Seleccionamos las columnas que se clasificaran en OHE\n",
    "    cols = ['registration_year','power','mileage','registration_month','brand']\n",
    "    OHE_df, encoder1 = OHE(df[cols])\n",
    "\n",
    "    # Definimos elementos y objetivos del dataframe de predición\n",
    "    y_val =  predict_df[column]\n",
    "    X_val = OHE_df.query('index in @predict_df.index')\n",
    "\n",
    "    # Definimos elementos y objetivos del dataframe de entrenamiento\n",
    "    y = train_df[column]\n",
    "    X = OHE_df.query('index in @train_df.index')\n",
    "\n",
    "    # Ejecutamos RandomForest para recibir la predicción\n",
    "    y_predict = r_forests(X, X_val, y)\n",
    "\n",
    "    return y_predict\n",
    "\n",
    "   \n",
    "    # report = accuracy_score(y_test,y_predict_serie)\n",
    "    \n",
    "    # print(report)\n",
    "    \n",
    "    # expected_prediction = model.predict(X_val)\n",
    "    # expected_report = classification_report(y_train, y_val)\n",
    "    # print(report, end= '\\n\\n')\n",
    "    # print(expected_report)\n",
    "    # return pred\n",
    "\n",
    "    # return y_predict_categories, y_test\n",
    "    # return y_predict_inverse\n"
   ]
  },
  {
   "cell_type": "code",
   "execution_count": 30,
   "metadata": {},
   "outputs": [],
   "source": [
    "r = model_imputate(recalibrate_df, 'vehicle_type')"
   ]
  },
  {
   "cell_type": "code",
   "execution_count": null,
   "metadata": {},
   "outputs": [],
   "source": [
    "r"
   ]
  }
 ],
 "metadata": {
  "kernelspec": {
   "display_name": "Python 3",
   "language": "python",
   "name": "python3"
  },
  "language_info": {
   "codemirror_mode": {
    "name": "ipython",
    "version": 3
   },
   "file_extension": ".py",
   "mimetype": "text/x-python",
   "name": "python",
   "nbconvert_exporter": "python",
   "pygments_lexer": "ipython3",
   "version": "3.12.3"
  }
 },
 "nbformat": 4,
 "nbformat_minor": 2
}
